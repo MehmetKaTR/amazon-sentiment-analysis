{
 "cells": [
  {
   "cell_type": "markdown",
   "id": "504cf2e7-46c0-4632-9251-ff9d061e304f",
   "metadata": {},
   "source": [
    "### Data Preprocessing"
   ]
  },
  {
   "cell_type": "code",
   "execution_count": 1,
   "id": "dc82baa9-e015-410a-b3e7-9bc3e66f4fb1",
   "metadata": {
    "tags": []
   },
   "outputs": [],
   "source": [
    "import pandas as pd"
   ]
  },
  {
   "cell_type": "code",
   "execution_count": null,
   "id": "5f3f87f5-5fee-4c3e-9996-91455e74031e",
   "metadata": {},
   "outputs": [],
   "source": []
  },
  {
   "cell_type": "code",
   "execution_count": 2,
   "id": "5e88e152-6e20-4082-9021-da73dd22beb8",
   "metadata": {
    "tags": []
   },
   "outputs": [],
   "source": [
    "df = pd.read_excel(\"amazon.xlsx\")"
   ]
  },
  {
   "cell_type": "code",
   "execution_count": 3,
   "id": "be7eaa1f-02ed-4410-a8ca-48f952e24270",
   "metadata": {
    "tags": []
   },
   "outputs": [
    {
     "data": {
      "text/html": [
       "<div>\n",
       "<style scoped>\n",
       "    .dataframe tbody tr th:only-of-type {\n",
       "        vertical-align: middle;\n",
       "    }\n",
       "\n",
       "    .dataframe tbody tr th {\n",
       "        vertical-align: top;\n",
       "    }\n",
       "\n",
       "    .dataframe thead th {\n",
       "        text-align: right;\n",
       "    }\n",
       "</style>\n",
       "<table border=\"1\" class=\"dataframe\">\n",
       "  <thead>\n",
       "    <tr style=\"text-align: right;\">\n",
       "      <th></th>\n",
       "      <th>Star</th>\n",
       "      <th>HelpFul</th>\n",
       "      <th>Title</th>\n",
       "      <th>Review</th>\n",
       "    </tr>\n",
       "  </thead>\n",
       "  <tbody>\n",
       "    <tr>\n",
       "      <th>0</th>\n",
       "      <td>5</td>\n",
       "      <td>0</td>\n",
       "      <td>looks great</td>\n",
       "      <td>Happy with it</td>\n",
       "    </tr>\n",
       "    <tr>\n",
       "      <th>1</th>\n",
       "      <td>5</td>\n",
       "      <td>0</td>\n",
       "      <td>Pattern did not align between the two panels.</td>\n",
       "      <td>Good quality material however the panels are m...</td>\n",
       "    </tr>\n",
       "    <tr>\n",
       "      <th>2</th>\n",
       "      <td>5</td>\n",
       "      <td>0</td>\n",
       "      <td>Imagery is stretched. Still fun.</td>\n",
       "      <td>Product was fun for bedroom windows.&lt;br /&gt;Imag...</td>\n",
       "    </tr>\n",
       "    <tr>\n",
       "      <th>3</th>\n",
       "      <td>5</td>\n",
       "      <td>0</td>\n",
       "      <td>Que se ven elegantes muy finas</td>\n",
       "      <td>Lo unico que me gustaria es que sean un poco ...</td>\n",
       "    </tr>\n",
       "    <tr>\n",
       "      <th>4</th>\n",
       "      <td>5</td>\n",
       "      <td>0</td>\n",
       "      <td>Wow great purchase</td>\n",
       "      <td>Great bang for the buck I can't believe the qu...</td>\n",
       "    </tr>\n",
       "    <tr>\n",
       "      <th>...</th>\n",
       "      <td>...</td>\n",
       "      <td>...</td>\n",
       "      <td>...</td>\n",
       "      <td>...</td>\n",
       "    </tr>\n",
       "    <tr>\n",
       "      <th>5606</th>\n",
       "      <td>4</td>\n",
       "      <td>0</td>\n",
       "      <td>Recommend</td>\n",
       "      <td>Great product for reasonable money.  Delivered...</td>\n",
       "    </tr>\n",
       "    <tr>\n",
       "      <th>5607</th>\n",
       "      <td>5</td>\n",
       "      <td>0</td>\n",
       "      <td>Terrible , different colors. I returned</td>\n",
       "      <td>Color is way off and panels do not match</td>\n",
       "    </tr>\n",
       "    <tr>\n",
       "      <th>5608</th>\n",
       "      <td>5</td>\n",
       "      <td>0</td>\n",
       "      <td>Extremely pleasing</td>\n",
       "      <td>These are great for my studio as they compleme...</td>\n",
       "    </tr>\n",
       "    <tr>\n",
       "      <th>5609</th>\n",
       "      <td>5</td>\n",
       "      <td>0</td>\n",
       "      <td>Perfect</td>\n",
       "      <td>Brought out the beauty in kids room. They love...</td>\n",
       "    </tr>\n",
       "    <tr>\n",
       "      <th>5610</th>\n",
       "      <td>4</td>\n",
       "      <td>0</td>\n",
       "      <td>Quality Curtains for the price</td>\n",
       "      <td>Very cute curtains in my sons room! Thick enou...</td>\n",
       "    </tr>\n",
       "  </tbody>\n",
       "</table>\n",
       "<p>5611 rows × 4 columns</p>\n",
       "</div>"
      ],
      "text/plain": [
       "      Star  HelpFul                                          Title  \\\n",
       "0        5        0                                    looks great   \n",
       "1        5        0  Pattern did not align between the two panels.   \n",
       "2        5        0               Imagery is stretched. Still fun.   \n",
       "3        5        0                 Que se ven elegantes muy finas   \n",
       "4        5        0                             Wow great purchase   \n",
       "...    ...      ...                                            ...   \n",
       "5606     4        0                                      Recommend   \n",
       "5607     5        0        Terrible , different colors. I returned   \n",
       "5608     5        0                             Extremely pleasing   \n",
       "5609     5        0                                        Perfect   \n",
       "5610     4        0                 Quality Curtains for the price   \n",
       "\n",
       "                                                 Review  \n",
       "0                                         Happy with it  \n",
       "1     Good quality material however the panels are m...  \n",
       "2     Product was fun for bedroom windows.<br />Imag...  \n",
       "3      Lo unico que me gustaria es que sean un poco ...  \n",
       "4     Great bang for the buck I can't believe the qu...  \n",
       "...                                                 ...  \n",
       "5606  Great product for reasonable money.  Delivered...  \n",
       "5607           Color is way off and panels do not match  \n",
       "5608  These are great for my studio as they compleme...  \n",
       "5609  Brought out the beauty in kids room. They love...  \n",
       "5610  Very cute curtains in my sons room! Thick enou...  \n",
       "\n",
       "[5611 rows x 4 columns]"
      ]
     },
     "execution_count": 3,
     "metadata": {},
     "output_type": "execute_result"
    }
   ],
   "source": [
    "df"
   ]
  },
  {
   "cell_type": "code",
   "execution_count": 4,
   "id": "df2fdd47-1328-4658-80c1-fd3949aadee3",
   "metadata": {
    "tags": []
   },
   "outputs": [
    {
     "data": {
      "text/html": [
       "<div>\n",
       "<style scoped>\n",
       "    .dataframe tbody tr th:only-of-type {\n",
       "        vertical-align: middle;\n",
       "    }\n",
       "\n",
       "    .dataframe tbody tr th {\n",
       "        vertical-align: top;\n",
       "    }\n",
       "\n",
       "    .dataframe thead th {\n",
       "        text-align: right;\n",
       "    }\n",
       "</style>\n",
       "<table border=\"1\" class=\"dataframe\">\n",
       "  <thead>\n",
       "    <tr style=\"text-align: right;\">\n",
       "      <th></th>\n",
       "      <th>Star</th>\n",
       "      <th>HelpFul</th>\n",
       "      <th>Title</th>\n",
       "      <th>Review</th>\n",
       "    </tr>\n",
       "  </thead>\n",
       "  <tbody>\n",
       "    <tr>\n",
       "      <th>425</th>\n",
       "      <td>1</td>\n",
       "      <td>124</td>\n",
       "      <td>A great idea poorly executed.</td>\n",
       "      <td>I am so disappointed.  I saw the beautiful pic...</td>\n",
       "    </tr>\n",
       "    <tr>\n",
       "      <th>58</th>\n",
       "      <td>5</td>\n",
       "      <td>81</td>\n",
       "      <td>Five Stars</td>\n",
       "      <td>Love them, perfect for my living room</td>\n",
       "    </tr>\n",
       "    <tr>\n",
       "      <th>212</th>\n",
       "      <td>5</td>\n",
       "      <td>74</td>\n",
       "      <td>Used one panel a window</td>\n",
       "      <td>This is the review I would have liked to have ...</td>\n",
       "    </tr>\n",
       "    <tr>\n",
       "      <th>252</th>\n",
       "      <td>5</td>\n",
       "      <td>69</td>\n",
       "      <td>Perfect for the bedroom</td>\n",
       "      <td>Although I was hesitant to buy this as it seem...</td>\n",
       "    </tr>\n",
       "    <tr>\n",
       "      <th>59</th>\n",
       "      <td>5</td>\n",
       "      <td>60</td>\n",
       "      <td>LOVE!</td>\n",
       "      <td>We constantly get compliments on these as you ...</td>\n",
       "    </tr>\n",
       "    <tr>\n",
       "      <th>69</th>\n",
       "      <td>5</td>\n",
       "      <td>57</td>\n",
       "      <td>Bed and Elegant</td>\n",
       "      <td>love love love&lt;br&gt;&lt;br&gt;i used these for a back ...</td>\n",
       "    </tr>\n",
       "    <tr>\n",
       "      <th>20</th>\n",
       "      <td>4</td>\n",
       "      <td>56</td>\n",
       "      <td>Beautiful !</td>\n",
       "      <td>beautiful, the curtains really made our living...</td>\n",
       "    </tr>\n",
       "    <tr>\n",
       "      <th>89</th>\n",
       "      <td>5</td>\n",
       "      <td>49</td>\n",
       "      <td>QUALITY you can FEEL!!! :)</td>\n",
       "      <td>I took a gamble purchasing these drapes even t...</td>\n",
       "    </tr>\n",
       "    <tr>\n",
       "      <th>728</th>\n",
       "      <td>2</td>\n",
       "      <td>48</td>\n",
       "      <td>Easy setup. Cons</td>\n",
       "      <td>Here is my review of the custom beach print cu...</td>\n",
       "    </tr>\n",
       "    <tr>\n",
       "      <th>1986</th>\n",
       "      <td>5</td>\n",
       "      <td>46</td>\n",
       "      <td>Great Quality</td>\n",
       "      <td>They are just Beautiful, I am an outdoor lover...</td>\n",
       "    </tr>\n",
       "    <tr>\n",
       "      <th>2638</th>\n",
       "      <td>5</td>\n",
       "      <td>43</td>\n",
       "      <td>Beautiful.  Even better than the pictures.</td>\n",
       "      <td>These curtains are fantastic! They're nice and...</td>\n",
       "    </tr>\n",
       "    <tr>\n",
       "      <th>1316</th>\n",
       "      <td>5</td>\n",
       "      <td>40</td>\n",
       "      <td>Gives my room that resort feeling</td>\n",
       "      <td>I love them. I should have ironed them in very...</td>\n",
       "    </tr>\n",
       "    <tr>\n",
       "      <th>154</th>\n",
       "      <td>5</td>\n",
       "      <td>37</td>\n",
       "      <td>LOVE LOVE LOVE</td>\n",
       "      <td>I have already gotten tons of compliments on t...</td>\n",
       "    </tr>\n",
       "    <tr>\n",
       "      <th>458</th>\n",
       "      <td>1</td>\n",
       "      <td>37</td>\n",
       "      <td>Great idea, poor, poor, poor execution.</td>\n",
       "      <td>What a disappointment this purchase was.  The ...</td>\n",
       "    </tr>\n",
       "    <tr>\n",
       "      <th>216</th>\n",
       "      <td>4</td>\n",
       "      <td>36</td>\n",
       "      <td>A sunny day when you need one in the winter</td>\n",
       "      <td>I purchased the forest springtime version.&lt;br&gt;...</td>\n",
       "    </tr>\n",
       "    <tr>\n",
       "      <th>107</th>\n",
       "      <td>5</td>\n",
       "      <td>33</td>\n",
       "      <td>Beyond all of my expectations.</td>\n",
       "      <td>I have never gotten as many compliments on any...</td>\n",
       "    </tr>\n",
       "    <tr>\n",
       "      <th>754</th>\n",
       "      <td>1</td>\n",
       "      <td>33</td>\n",
       "      <td>The curtains I received look nothing like the ...</td>\n",
       "      <td>The curtains I received look nothing like the ...</td>\n",
       "    </tr>\n",
       "    <tr>\n",
       "      <th>426</th>\n",
       "      <td>4</td>\n",
       "      <td>32</td>\n",
       "      <td>Vibrant colors in the art.  Thick enough fabri...</td>\n",
       "      <td>Pretty much as described.  The polyester blend...</td>\n",
       "    </tr>\n",
       "    <tr>\n",
       "      <th>142</th>\n",
       "      <td>5</td>\n",
       "      <td>30</td>\n",
       "      <td>A good disguise</td>\n",
       "      <td>It's winter here in Minneapolis and at -23 deg...</td>\n",
       "    </tr>\n",
       "    <tr>\n",
       "      <th>253</th>\n",
       "      <td>5</td>\n",
       "      <td>29</td>\n",
       "      <td>Beautiful and functional!</td>\n",
       "      <td>These are stunning!  They look exactly as desc...</td>\n",
       "    </tr>\n",
       "  </tbody>\n",
       "</table>\n",
       "</div>"
      ],
      "text/plain": [
       "      Star  HelpFul                                              Title  \\\n",
       "425      1      124                      A great idea poorly executed.   \n",
       "58       5       81                                         Five Stars   \n",
       "212      5       74                            Used one panel a window   \n",
       "252      5       69                            Perfect for the bedroom   \n",
       "59       5       60                                              LOVE!   \n",
       "69       5       57                                    Bed and Elegant   \n",
       "20       4       56                                        Beautiful !   \n",
       "89       5       49                         QUALITY you can FEEL!!! :)   \n",
       "728      2       48                                   Easy setup. Cons   \n",
       "1986     5       46                                      Great Quality   \n",
       "2638     5       43         Beautiful.  Even better than the pictures.   \n",
       "1316     5       40                  Gives my room that resort feeling   \n",
       "154      5       37                                     LOVE LOVE LOVE   \n",
       "458      1       37            Great idea, poor, poor, poor execution.   \n",
       "216      4       36        A sunny day when you need one in the winter   \n",
       "107      5       33                     Beyond all of my expectations.   \n",
       "754      1       33  The curtains I received look nothing like the ...   \n",
       "426      4       32  Vibrant colors in the art.  Thick enough fabri...   \n",
       "142      5       30                                    A good disguise   \n",
       "253      5       29                          Beautiful and functional!   \n",
       "\n",
       "                                                 Review  \n",
       "425   I am so disappointed.  I saw the beautiful pic...  \n",
       "58                Love them, perfect for my living room  \n",
       "212   This is the review I would have liked to have ...  \n",
       "252   Although I was hesitant to buy this as it seem...  \n",
       "59    We constantly get compliments on these as you ...  \n",
       "69    love love love<br><br>i used these for a back ...  \n",
       "20    beautiful, the curtains really made our living...  \n",
       "89    I took a gamble purchasing these drapes even t...  \n",
       "728   Here is my review of the custom beach print cu...  \n",
       "1986  They are just Beautiful, I am an outdoor lover...  \n",
       "2638  These curtains are fantastic! They're nice and...  \n",
       "1316  I love them. I should have ironed them in very...  \n",
       "154   I have already gotten tons of compliments on t...  \n",
       "458   What a disappointment this purchase was.  The ...  \n",
       "216   I purchased the forest springtime version.<br>...  \n",
       "107   I have never gotten as many compliments on any...  \n",
       "754   The curtains I received look nothing like the ...  \n",
       "426   Pretty much as described.  The polyester blend...  \n",
       "142   It's winter here in Minneapolis and at -23 deg...  \n",
       "253   These are stunning!  They look exactly as desc...  "
      ]
     },
     "execution_count": 4,
     "metadata": {},
     "output_type": "execute_result"
    }
   ],
   "source": [
    "df.sort_values(by=[\"HelpFul\"], ascending=False)[:20]"
   ]
  },
  {
   "cell_type": "code",
   "execution_count": null,
   "id": "a8b304b2-ce5a-4b06-ad54-c7fa0c561b5e",
   "metadata": {},
   "outputs": [],
   "source": []
  },
  {
   "cell_type": "code",
   "execution_count": 5,
   "id": "ce4e8dab-d43b-46fe-884d-c98091e6fdb9",
   "metadata": {
    "tags": []
   },
   "outputs": [],
   "source": [
    "df[\"Title\"] = df[\"Title\"].str.lower()\n",
    "df[\"Review\"] = df[\"Review\"].str.lower()"
   ]
  },
  {
   "cell_type": "code",
   "execution_count": 6,
   "id": "91c85e05-e14f-43aa-92f6-905d3c6dab86",
   "metadata": {
    "tags": []
   },
   "outputs": [
    {
     "data": {
      "text/html": [
       "<div>\n",
       "<style scoped>\n",
       "    .dataframe tbody tr th:only-of-type {\n",
       "        vertical-align: middle;\n",
       "    }\n",
       "\n",
       "    .dataframe tbody tr th {\n",
       "        vertical-align: top;\n",
       "    }\n",
       "\n",
       "    .dataframe thead th {\n",
       "        text-align: right;\n",
       "    }\n",
       "</style>\n",
       "<table border=\"1\" class=\"dataframe\">\n",
       "  <thead>\n",
       "    <tr style=\"text-align: right;\">\n",
       "      <th></th>\n",
       "      <th>Star</th>\n",
       "      <th>HelpFul</th>\n",
       "      <th>Title</th>\n",
       "      <th>Review</th>\n",
       "    </tr>\n",
       "  </thead>\n",
       "  <tbody>\n",
       "    <tr>\n",
       "      <th>0</th>\n",
       "      <td>5</td>\n",
       "      <td>0</td>\n",
       "      <td>looks great</td>\n",
       "      <td>happy with it</td>\n",
       "    </tr>\n",
       "    <tr>\n",
       "      <th>1</th>\n",
       "      <td>5</td>\n",
       "      <td>0</td>\n",
       "      <td>pattern did not align between the two panels.</td>\n",
       "      <td>good quality material however the panels are m...</td>\n",
       "    </tr>\n",
       "    <tr>\n",
       "      <th>2</th>\n",
       "      <td>5</td>\n",
       "      <td>0</td>\n",
       "      <td>imagery is stretched. still fun.</td>\n",
       "      <td>product was fun for bedroom windows.&lt;br /&gt;imag...</td>\n",
       "    </tr>\n",
       "    <tr>\n",
       "      <th>3</th>\n",
       "      <td>5</td>\n",
       "      <td>0</td>\n",
       "      <td>que se ven elegantes muy finas</td>\n",
       "      <td>lo unico que me gustaria es que sean un poco ...</td>\n",
       "    </tr>\n",
       "    <tr>\n",
       "      <th>4</th>\n",
       "      <td>5</td>\n",
       "      <td>0</td>\n",
       "      <td>wow great purchase</td>\n",
       "      <td>great bang for the buck i can't believe the qu...</td>\n",
       "    </tr>\n",
       "  </tbody>\n",
       "</table>\n",
       "</div>"
      ],
      "text/plain": [
       "   Star  HelpFul                                          Title  \\\n",
       "0     5        0                                    looks great   \n",
       "1     5        0  pattern did not align between the two panels.   \n",
       "2     5        0               imagery is stretched. still fun.   \n",
       "3     5        0                 que se ven elegantes muy finas   \n",
       "4     5        0                             wow great purchase   \n",
       "\n",
       "                                              Review  \n",
       "0                                      happy with it  \n",
       "1  good quality material however the panels are m...  \n",
       "2  product was fun for bedroom windows.<br />imag...  \n",
       "3   lo unico que me gustaria es que sean un poco ...  \n",
       "4  great bang for the buck i can't believe the qu...  "
      ]
     },
     "execution_count": 6,
     "metadata": {},
     "output_type": "execute_result"
    }
   ],
   "source": [
    "df.head()"
   ]
  },
  {
   "cell_type": "code",
   "execution_count": null,
   "id": "06f43e9b-e9c4-43c8-b66b-50c793ef10f2",
   "metadata": {},
   "outputs": [],
   "source": []
  },
  {
   "cell_type": "code",
   "execution_count": 7,
   "id": "1fd30748-52a7-4ad6-bca3-0c1c377a0d77",
   "metadata": {
    "tags": []
   },
   "outputs": [],
   "source": [
    "df[\"Title\"] = df[\"Title\"].str.replace(\"[^\\w\\s]\",\"\")\n",
    "df[\"Review\"] = df[\"Review\"].str.replace(\"[^\\w\\s]\",\"\")"
   ]
  },
  {
   "cell_type": "code",
   "execution_count": 8,
   "id": "83aa97c9-24cc-424f-bb2d-e381f7827780",
   "metadata": {
    "tags": []
   },
   "outputs": [
    {
     "data": {
      "text/plain": [
       "0                                        happy with it\n",
       "1    good quality material however the panels are m...\n",
       "2    product was fun for bedroom windows.<br />imag...\n",
       "3     lo unico que me gustaria es que sean un poco ...\n",
       "4    great bang for the buck i can't believe the qu...\n",
       "Name: Review, dtype: object"
      ]
     },
     "execution_count": 8,
     "metadata": {},
     "output_type": "execute_result"
    }
   ],
   "source": [
    "df[\"Review\"].head()"
   ]
  },
  {
   "cell_type": "code",
   "execution_count": null,
   "id": "6849fbd3-f407-4e83-a9be-8077af81b2f4",
   "metadata": {},
   "outputs": [],
   "source": []
  },
  {
   "cell_type": "code",
   "execution_count": 9,
   "id": "fc3d189d-2583-4294-b444-5b517a30ed90",
   "metadata": {
    "tags": []
   },
   "outputs": [
    {
     "data": {
      "text/plain": [
       "'!\"#$%&\\'()*+,-./:;<=>?@[\\\\]^_`{|}~'"
      ]
     },
     "execution_count": 9,
     "metadata": {},
     "output_type": "execute_result"
    }
   ],
   "source": [
    "import string\n",
    "string.punctuation"
   ]
  },
  {
   "cell_type": "code",
   "execution_count": 10,
   "id": "319b08a1-d22d-41f8-9a8d-bc867f17ae4c",
   "metadata": {
    "tags": []
   },
   "outputs": [],
   "source": [
    "df[\"Title\"] = df[\"Title\"].str.translate(str.maketrans('', '', string.punctuation))\n",
    "df[\"Review\"] = df[\"Review\"].str.translate(str.maketrans('', '', string.punctuation))"
   ]
  },
  {
   "cell_type": "code",
   "execution_count": 11,
   "id": "bc53cb87-59e2-4f19-ad82-24344d0d6693",
   "metadata": {
    "tags": []
   },
   "outputs": [
    {
     "data": {
      "text/plain": [
       "0                                        happy with it\n",
       "1    good quality material however the panels are m...\n",
       "2    product was fun for bedroom windowsbr imagery ...\n",
       "3     lo unico que me gustaria es que sean un poco ...\n",
       "4    great bang for the buck i cant believe the qua...\n",
       "Name: Review, dtype: object"
      ]
     },
     "execution_count": 11,
     "metadata": {},
     "output_type": "execute_result"
    }
   ],
   "source": [
    "df[\"Review\"].head()"
   ]
  },
  {
   "cell_type": "code",
   "execution_count": null,
   "id": "20bf1eea-2474-47f3-ae79-7eaa2089adfb",
   "metadata": {
    "tags": []
   },
   "outputs": [],
   "source": []
  },
  {
   "cell_type": "code",
   "execution_count": 12,
   "id": "7ee9f8ab-a721-4d9c-a56e-a56cc4f92f86",
   "metadata": {
    "tags": []
   },
   "outputs": [],
   "source": [
    "import nltk\n",
    "from nltk.corpus import stopwords"
   ]
  },
  {
   "cell_type": "code",
   "execution_count": 13,
   "id": "ab4c502a-8f37-40d4-bbc1-c97d70a8d2a4",
   "metadata": {
    "tags": []
   },
   "outputs": [
    {
     "name": "stderr",
     "output_type": "stream",
     "text": [
      "[nltk_data] Downloading package stopwords to\n",
      "[nltk_data]     C:\\Users\\mehme\\AppData\\Roaming\\nltk_data...\n",
      "[nltk_data]   Package stopwords is already up-to-date!\n"
     ]
    },
    {
     "data": {
      "text/plain": [
       "True"
      ]
     },
     "execution_count": 13,
     "metadata": {},
     "output_type": "execute_result"
    }
   ],
   "source": [
    "nltk.download(\"stopwords\")"
   ]
  },
  {
   "cell_type": "code",
   "execution_count": 14,
   "id": "ad000595-83c8-4038-b545-9dcb3596bc36",
   "metadata": {
    "tags": []
   },
   "outputs": [],
   "source": [
    "sw = stopwords.words(\"english\")"
   ]
  },
  {
   "cell_type": "code",
   "execution_count": null,
   "id": "b3fc9217-6634-4250-a000-53fc4f673294",
   "metadata": {
    "tags": []
   },
   "outputs": [],
   "source": []
  },
  {
   "cell_type": "code",
   "execution_count": 15,
   "id": "bca191cb-bf18-41d8-adbe-2d859ada7d65",
   "metadata": {
    "tags": []
   },
   "outputs": [],
   "source": [
    "df[\"Review\"] = df[\"Review\"].apply(lambda x: \" \".join(x for x in str(x).split() if x not in sw))"
   ]
  },
  {
   "cell_type": "code",
   "execution_count": 16,
   "id": "2df8c780-0bf2-4bcc-a119-be594c188315",
   "metadata": {
    "tags": []
   },
   "outputs": [],
   "source": [
    "df[\"Title\"] = df[\"Title\"].apply(lambda x: \" \".join(x for x in str(x).split() if x not in sw))"
   ]
  },
  {
   "cell_type": "code",
   "execution_count": 17,
   "id": "6e576fc8-1223-4142-8186-ae86715ad22e",
   "metadata": {
    "tags": []
   },
   "outputs": [
    {
     "data": {
      "text/plain": [
       "0                       looks great\n",
       "1          pattern align two panels\n",
       "2       imagery stretched still fun\n",
       "3    que se ven elegantes muy finas\n",
       "4                wow great purchase\n",
       "Name: Title, dtype: object"
      ]
     },
     "execution_count": 17,
     "metadata": {},
     "output_type": "execute_result"
    }
   ],
   "source": [
    "df[\"Title\"].head()"
   ]
  },
  {
   "cell_type": "code",
   "execution_count": null,
   "id": "6c441435-af1e-43ce-9384-70d3dd91c37f",
   "metadata": {},
   "outputs": [],
   "source": []
  },
  {
   "cell_type": "code",
   "execution_count": null,
   "id": "2bb04234-8bdb-43bb-9c6e-d1e05014899a",
   "metadata": {
    "tags": []
   },
   "outputs": [],
   "source": []
  },
  {
   "cell_type": "code",
   "execution_count": 18,
   "id": "87c6b3fc-4a12-4796-b666-401f3a1d6d10",
   "metadata": {
    "tags": []
   },
   "outputs": [],
   "source": [
    "amountOfWordsReview = pd.Series(\" \".join(df[\"Review\"]).split()).value_counts()"
   ]
  },
  {
   "cell_type": "code",
   "execution_count": 19,
   "id": "9041e136-178c-40b5-a4fa-dfd1452841f0",
   "metadata": {
    "tags": []
   },
   "outputs": [],
   "source": [
    "r1 = amountOfWordsReview[amountOfWordsReview <= 1]"
   ]
  },
  {
   "cell_type": "code",
   "execution_count": null,
   "id": "ec94fc91-93ec-4678-ad02-050abe1381c3",
   "metadata": {},
   "outputs": [],
   "source": []
  },
  {
   "cell_type": "code",
   "execution_count": 20,
   "id": "5f0f76c2-04c0-454a-87b6-4e60812cec41",
   "metadata": {
    "tags": []
   },
   "outputs": [],
   "source": [
    "amountOfWordsTitle = pd.Series(\" \".join(df[\"Title\"]).split()).value_counts()"
   ]
  },
  {
   "cell_type": "code",
   "execution_count": 21,
   "id": "302b2b62-ec7d-4533-b610-41708fe7186f",
   "metadata": {
    "tags": []
   },
   "outputs": [],
   "source": [
    "t1 = amountOfWordsTitle[amountOfWordsTitle >= 1]"
   ]
  },
  {
   "cell_type": "code",
   "execution_count": null,
   "id": "8c2f3f74-6479-49f3-b0da-5ee16a75b3da",
   "metadata": {},
   "outputs": [],
   "source": []
  },
  {
   "cell_type": "code",
   "execution_count": 22,
   "id": "c3482316-bf57-4e8e-be39-f48217c3d2c3",
   "metadata": {
    "tags": []
   },
   "outputs": [
    {
     "data": {
      "text/plain": [
       "0        \n",
       "1        \n",
       "2        \n",
       "3        \n",
       "4        \n",
       "       ..\n",
       "5606     \n",
       "5607     \n",
       "5608     \n",
       "5609     \n",
       "5610     \n",
       "Name: Title, Length: 5611, dtype: object"
      ]
     },
     "execution_count": 22,
     "metadata": {},
     "output_type": "execute_result"
    }
   ],
   "source": [
    "df[\"Review\"].apply(lambda x : \" \".join(x for x in str(x).split() if x not in amountOfWordsReview))\n",
    "df[\"Title\"].apply(lambda x : \" \".join(x for x in str(x).split() if x not in amountOfWordsTitle))"
   ]
  },
  {
   "cell_type": "code",
   "execution_count": 23,
   "id": "b8c96343-4699-48a9-a2d7-0473f5a0ad08",
   "metadata": {
    "tags": []
   },
   "outputs": [
    {
     "data": {
      "text/plain": [
       "0                                                happy\n",
       "1      good quality material however panels mismatched\n",
       "2    product fun bedroom windowsbr imagery bit stre...\n",
       "3    lo unico que gustaria es que sean un poco mas ...\n",
       "4    great bang buck cant believe quality material ...\n",
       "Name: Review, dtype: object"
      ]
     },
     "execution_count": 23,
     "metadata": {},
     "output_type": "execute_result"
    }
   ],
   "source": [
    "df[\"Review\"].head()"
   ]
  },
  {
   "cell_type": "code",
   "execution_count": 24,
   "id": "253ed44b-3a88-4efa-b206-73539f298770",
   "metadata": {
    "tags": []
   },
   "outputs": [
    {
     "data": {
      "text/plain": [
       "0                       looks great\n",
       "1          pattern align two panels\n",
       "2       imagery stretched still fun\n",
       "3    que se ven elegantes muy finas\n",
       "4                wow great purchase\n",
       "Name: Title, dtype: object"
      ]
     },
     "execution_count": 24,
     "metadata": {},
     "output_type": "execute_result"
    }
   ],
   "source": [
    "df[\"Title\"].head()"
   ]
  },
  {
   "cell_type": "code",
   "execution_count": null,
   "id": "1ed5211e-262b-4050-8374-1b63663215b9",
   "metadata": {},
   "outputs": [],
   "source": []
  },
  {
   "cell_type": "code",
   "execution_count": 25,
   "id": "011e53ff-acbd-4f76-a699-4fc5d77177ab",
   "metadata": {
    "tags": []
   },
   "outputs": [
    {
     "name": "stderr",
     "output_type": "stream",
     "text": [
      "[nltk_data] Downloading package wordnet to\n",
      "[nltk_data]     C:\\Users\\mehme\\AppData\\Roaming\\nltk_data...\n",
      "[nltk_data]   Package wordnet is already up-to-date!\n"
     ]
    },
    {
     "data": {
      "text/plain": [
       "True"
      ]
     },
     "execution_count": 25,
     "metadata": {},
     "output_type": "execute_result"
    }
   ],
   "source": [
    "nltk.download(\"wordnet\")"
   ]
  },
  {
   "cell_type": "code",
   "execution_count": 26,
   "id": "9bc3f337-8b44-44e3-aec7-541f1266aaeb",
   "metadata": {
    "tags": []
   },
   "outputs": [],
   "source": [
    "from textblob import Word"
   ]
  },
  {
   "cell_type": "code",
   "execution_count": 27,
   "id": "4d4d5ba0-4b4f-4fff-b9ef-928fac991d22",
   "metadata": {},
   "outputs": [],
   "source": [
    "df[\"Review\"] = df[\"Review\"].apply(lambda x: \" \".join([Word(word).lemmatize() for word in x.split()]))\n",
    "df[\"Title\"] = df[\"Title\"].apply(lambda x: \" \".join([Word(word).lemmatize() for word in x.split()]))"
   ]
  },
  {
   "cell_type": "code",
   "execution_count": 28,
   "id": "b13b250a-22e9-47d6-b113-8669ac618032",
   "metadata": {},
   "outputs": [
    {
     "data": {
      "text/plain": [
       "0                        look great\n",
       "1           pattern align two panel\n",
       "2       imagery stretched still fun\n",
       "3    que se ven elegantes muy finas\n",
       "4                wow great purchase\n",
       "Name: Title, dtype: object"
      ]
     },
     "execution_count": 28,
     "metadata": {},
     "output_type": "execute_result"
    }
   ],
   "source": [
    "df[\"Title\"].head()"
   ]
  },
  {
   "cell_type": "code",
   "execution_count": 29,
   "id": "986514c5-5b9a-400e-975e-989b8c8d7347",
   "metadata": {},
   "outputs": [
    {
     "data": {
      "text/plain": [
       "0                                                 happy\n",
       "1        good quality material however panel mismatched\n",
       "2     product fun bedroom windowsbr imagery bit stre...\n",
       "3     lo unico que gustaria e que sean un poco ma la...\n",
       "4     great bang buck cant believe quality material ...\n",
       "5                                  look different photo\n",
       "6     exactly looking heavy material great price shi...\n",
       "7     looking picture thought curtain would thinner ...\n",
       "8     much whiter thought would wasn’t really expect...\n",
       "9     curtain picture show 3rd set ambesonne curtain...\n",
       "10    block view living room front door kitchendinin...\n",
       "11                       private closed darkening point\n",
       "12                                    don’t block light\n",
       "13    work fine night curtain sheer daytime labeled ...\n",
       "14                                                     \n",
       "15    love curtain printed polyester type material b...\n",
       "16                             love hem one smaller one\n",
       "17    second time writing review amazon always alway...\n",
       "18                             love curtain even person\n",
       "19                                even beautiful person\n",
       "Name: Review, dtype: object"
      ]
     },
     "execution_count": 29,
     "metadata": {},
     "output_type": "execute_result"
    }
   ],
   "source": [
    "df[\"Review\"].head(20)"
   ]
  },
  {
   "cell_type": "code",
   "execution_count": null,
   "id": "0d4cc4c9-6ef9-49ce-9eee-187c4fd7b4bf",
   "metadata": {},
   "outputs": [],
   "source": []
  },
  {
   "cell_type": "code",
   "execution_count": null,
   "id": "af9f5f18-1222-46cd-8d49-4528678b31a2",
   "metadata": {},
   "outputs": [],
   "source": []
  },
  {
   "cell_type": "code",
   "execution_count": 30,
   "id": "1199438c-d4ac-42e3-99e5-62a3821761da",
   "metadata": {
    "tags": []
   },
   "outputs": [],
   "source": [
    "barx = amountOfWordsReview[amountOfWordsReview > 500]"
   ]
  },
  {
   "cell_type": "code",
   "execution_count": 31,
   "id": "be8c0943-f79b-4241-9e6d-68278aeb31cc",
   "metadata": {
    "tags": []
   },
   "outputs": [
    {
     "data": {
      "text/plain": [
       "Index(['curtains', 'love', 'room', 'like', 'beautiful', 'great', 'quality',\n",
       "       'look', 'nice', 'curtain', 'looks', 'picture', 'material', 'light',\n",
       "       'good'],\n",
       "      dtype='object')"
      ]
     },
     "execution_count": 31,
     "metadata": {},
     "output_type": "execute_result"
    }
   ],
   "source": [
    "barx.index"
   ]
  },
  {
   "cell_type": "code",
   "execution_count": 32,
   "id": "e128f3d7-6216-4504-951c-8354e3cb0e84",
   "metadata": {
    "tags": []
   },
   "outputs": [
    {
     "data": {
      "text/plain": [
       "array([1890, 1311, 1113, 1037,  942,  920,  888,  879,  707,  697,  651,\n",
       "        640,  561,  552,  535], dtype=int64)"
      ]
     },
     "execution_count": 32,
     "metadata": {},
     "output_type": "execute_result"
    }
   ],
   "source": [
    "barx.values"
   ]
  },
  {
   "cell_type": "code",
   "execution_count": null,
   "id": "a45066f7-2804-4522-8c8d-47a3bd63be1b",
   "metadata": {},
   "outputs": [],
   "source": []
  },
  {
   "cell_type": "code",
   "execution_count": 33,
   "id": "6e6badff-18f5-4fd6-a921-8efe47840ff1",
   "metadata": {},
   "outputs": [],
   "source": [
    "import matplotlib.pyplot as plt"
   ]
  },
  {
   "cell_type": "code",
   "execution_count": 34,
   "id": "0289f25a-fe95-4a8a-93a2-b6d59a33a197",
   "metadata": {},
   "outputs": [
    {
     "data": {
      "text/plain": [
       "<BarContainer object of 15 artists>"
      ]
     },
     "execution_count": 34,
     "metadata": {},
     "output_type": "execute_result"
    },
    {
     "data": {
      "image/png": "[encoded data removed]",
      "text/plain": [
       "<Figure size 1200x500 with 1 Axes>"
      ]
     },
     "metadata": {},
     "output_type": "display_data"
    }
   ],
   "source": [
    "plt.figure(figsize=(12,5))\n",
    "plt.bar(barx.index,barx.values)"
   ]
  },
  {
   "cell_type": "code",
   "execution_count": null,
   "id": "21ab176e-5a56-4e0d-8205-00a0f44dcd5f",
   "metadata": {},
   "outputs": [],
   "source": []
  },
  {
   "cell_type": "code",
   "execution_count": null,
   "id": "8d2f158c-0728-4537-9786-2edb399d505a",
   "metadata": {},
   "outputs": [],
   "source": []
  },
  {
   "cell_type": "code",
   "execution_count": 35,
   "id": "2b722170-f2f9-45d0-92af-c2211b49d341",
   "metadata": {},
   "outputs": [],
   "source": [
    "from wordcloud import WordCloud"
   ]
  },
  {
   "cell_type": "code",
   "execution_count": 36,
   "id": "471d6e5b-d190-4585-a4de-bc5e613064f6",
   "metadata": {},
   "outputs": [
    {
     "data": {
      "image/png": "[encoded data removed]",
      "text/plain": [
       "<Figure size 640x480 with 1 Axes>"
      ]
     },
     "metadata": {},
     "output_type": "display_data"
    }
   ],
   "source": [
    "text = \" \".join(i for i in df.Review)\n",
    "\n",
    "wordcloud = WordCloud().generate(text)\n",
    "plt.imshow(wordcloud, interpolation=\"bilinear\")\n",
    "plt.axis(\"off\")\n",
    "plt.show()"
   ]
  },
  {
   "cell_type": "code",
   "execution_count": null,
   "id": "2b27e26e-1f84-4c08-a946-7f116ff9d68b",
   "metadata": {},
   "outputs": [],
   "source": []
  },
  {
   "cell_type": "code",
   "execution_count": 37,
   "id": "0ebf6bb8-76cb-45a7-90ce-7061b15441fc",
   "metadata": {
    "tags": []
   },
   "outputs": [],
   "source": [
    "from nltk.sentiment import SentimentIntensityAnalyzer"
   ]
  },
  {
   "cell_type": "code",
   "execution_count": 38,
   "id": "7980e195-bb2b-4d1a-9bb5-4f587313d1af",
   "metadata": {},
   "outputs": [
    {
     "name": "stderr",
     "output_type": "stream",
     "text": [
      "[nltk_data] Downloading package vader_lexicon to\n",
      "[nltk_data]     C:\\Users\\mehme\\AppData\\Roaming\\nltk_data...\n",
      "[nltk_data]   Package vader_lexicon is already up-to-date!\n"
     ]
    }
   ],
   "source": [
    "nltk.download(\"vader_lexicon\")\n",
    "sia = SentimentIntensityAnalyzer()"
   ]
  },
  {
   "cell_type": "code",
   "execution_count": null,
   "id": "50bce7e1-5953-4751-85b6-14a3ffe5a491",
   "metadata": {},
   "outputs": [],
   "source": []
  },
  {
   "cell_type": "code",
   "execution_count": 39,
   "id": "f8c32a90-7eb8-46e4-ac79-e24243eaea98",
   "metadata": {
    "tags": []
   },
   "outputs": [],
   "source": [
    "df[\"polarity_score\"] = df[\"Review\"].apply(lambda x: sia.polarity_scores(x)[\"compound\"])"
   ]
  },
  {
   "cell_type": "code",
   "execution_count": 40,
   "id": "869e6f48-5902-4ea2-9cbf-57bd47cf61c6",
   "metadata": {},
   "outputs": [
    {
     "data": {
      "text/plain": [
       "0    0.5719\n",
       "1    0.4404\n",
       "2    0.7184\n",
       "3    0.0000\n",
       "4    0.9042\n",
       "Name: polarity_score, dtype: float64"
      ]
     },
     "execution_count": 40,
     "metadata": {},
     "output_type": "execute_result"
    }
   ],
   "source": [
    "df[\"polarity_score\"].head(5)"
   ]
  },
  {
   "cell_type": "code",
   "execution_count": 41,
   "id": "c7edb630-f35b-443c-896d-4afda01dafee",
   "metadata": {},
   "outputs": [
    {
     "data": {
      "text/html": [
       "<div>\n",
       "<style scoped>\n",
       "    .dataframe tbody tr th:only-of-type {\n",
       "        vertical-align: middle;\n",
       "    }\n",
       "\n",
       "    .dataframe tbody tr th {\n",
       "        vertical-align: top;\n",
       "    }\n",
       "\n",
       "    .dataframe thead th {\n",
       "        text-align: right;\n",
       "    }\n",
       "</style>\n",
       "<table border=\"1\" class=\"dataframe\">\n",
       "  <thead>\n",
       "    <tr style=\"text-align: right;\">\n",
       "      <th></th>\n",
       "      <th>Star</th>\n",
       "      <th>HelpFul</th>\n",
       "      <th>Title</th>\n",
       "      <th>Review</th>\n",
       "      <th>polarity_score</th>\n",
       "    </tr>\n",
       "  </thead>\n",
       "  <tbody>\n",
       "    <tr>\n",
       "      <th>0</th>\n",
       "      <td>5</td>\n",
       "      <td>0</td>\n",
       "      <td>look great</td>\n",
       "      <td>happy</td>\n",
       "      <td>0.5719</td>\n",
       "    </tr>\n",
       "    <tr>\n",
       "      <th>1</th>\n",
       "      <td>5</td>\n",
       "      <td>0</td>\n",
       "      <td>pattern align two panel</td>\n",
       "      <td>good quality material however panel mismatched</td>\n",
       "      <td>0.4404</td>\n",
       "    </tr>\n",
       "    <tr>\n",
       "      <th>2</th>\n",
       "      <td>5</td>\n",
       "      <td>0</td>\n",
       "      <td>imagery stretched still fun</td>\n",
       "      <td>product fun bedroom windowsbr imagery bit stre...</td>\n",
       "      <td>0.7184</td>\n",
       "    </tr>\n",
       "    <tr>\n",
       "      <th>3</th>\n",
       "      <td>5</td>\n",
       "      <td>0</td>\n",
       "      <td>que se ven elegantes muy finas</td>\n",
       "      <td>lo unico que gustaria e que sean un poco ma la...</td>\n",
       "      <td>0.0000</td>\n",
       "    </tr>\n",
       "    <tr>\n",
       "      <th>4</th>\n",
       "      <td>5</td>\n",
       "      <td>0</td>\n",
       "      <td>wow great purchase</td>\n",
       "      <td>great bang buck cant believe quality material ...</td>\n",
       "      <td>0.9042</td>\n",
       "    </tr>\n",
       "  </tbody>\n",
       "</table>\n",
       "</div>"
      ],
      "text/plain": [
       "   Star  HelpFul                           Title  \\\n",
       "0     5        0                      look great   \n",
       "1     5        0         pattern align two panel   \n",
       "2     5        0     imagery stretched still fun   \n",
       "3     5        0  que se ven elegantes muy finas   \n",
       "4     5        0              wow great purchase   \n",
       "\n",
       "                                              Review  polarity_score  \n",
       "0                                              happy          0.5719  \n",
       "1     good quality material however panel mismatched          0.4404  \n",
       "2  product fun bedroom windowsbr imagery bit stre...          0.7184  \n",
       "3  lo unico que gustaria e que sean un poco ma la...          0.0000  \n",
       "4  great bang buck cant believe quality material ...          0.9042  "
      ]
     },
     "execution_count": 41,
     "metadata": {},
     "output_type": "execute_result"
    }
   ],
   "source": [
    "df.head()"
   ]
  },
  {
   "cell_type": "code",
   "execution_count": null,
   "id": "4b9b91a5-9b94-47ce-8198-75abed15f5b7",
   "metadata": {},
   "outputs": [],
   "source": []
  },
  {
   "cell_type": "code",
   "execution_count": 42,
   "id": "20e5ae9a-f19d-48d7-91d9-3c8561baa5cd",
   "metadata": {},
   "outputs": [],
   "source": [
    "df[\"label\"] = df[\"polarity_score\"].apply(lambda x: \"pos\" if x > 0 else \"neg\")"
   ]
  },
  {
   "cell_type": "code",
   "execution_count": 43,
   "id": "5ec6cf56-c52f-4e68-9b71-93f0aaa24a33",
   "metadata": {},
   "outputs": [
    {
     "data": {
      "text/html": [
       "<div>\n",
       "<style scoped>\n",
       "    .dataframe tbody tr th:only-of-type {\n",
       "        vertical-align: middle;\n",
       "    }\n",
       "\n",
       "    .dataframe tbody tr th {\n",
       "        vertical-align: top;\n",
       "    }\n",
       "\n",
       "    .dataframe thead th {\n",
       "        text-align: right;\n",
       "    }\n",
       "</style>\n",
       "<table border=\"1\" class=\"dataframe\">\n",
       "  <thead>\n",
       "    <tr style=\"text-align: right;\">\n",
       "      <th></th>\n",
       "      <th>Star</th>\n",
       "      <th>HelpFul</th>\n",
       "      <th>Title</th>\n",
       "      <th>Review</th>\n",
       "      <th>polarity_score</th>\n",
       "      <th>label</th>\n",
       "    </tr>\n",
       "  </thead>\n",
       "  <tbody>\n",
       "    <tr>\n",
       "      <th>0</th>\n",
       "      <td>5</td>\n",
       "      <td>0</td>\n",
       "      <td>look great</td>\n",
       "      <td>happy</td>\n",
       "      <td>0.5719</td>\n",
       "      <td>pos</td>\n",
       "    </tr>\n",
       "    <tr>\n",
       "      <th>1</th>\n",
       "      <td>5</td>\n",
       "      <td>0</td>\n",
       "      <td>pattern align two panel</td>\n",
       "      <td>good quality material however panel mismatched</td>\n",
       "      <td>0.4404</td>\n",
       "      <td>pos</td>\n",
       "    </tr>\n",
       "    <tr>\n",
       "      <th>2</th>\n",
       "      <td>5</td>\n",
       "      <td>0</td>\n",
       "      <td>imagery stretched still fun</td>\n",
       "      <td>product fun bedroom windowsbr imagery bit stre...</td>\n",
       "      <td>0.7184</td>\n",
       "      <td>pos</td>\n",
       "    </tr>\n",
       "    <tr>\n",
       "      <th>3</th>\n",
       "      <td>5</td>\n",
       "      <td>0</td>\n",
       "      <td>que se ven elegantes muy finas</td>\n",
       "      <td>lo unico que gustaria e que sean un poco ma la...</td>\n",
       "      <td>0.0000</td>\n",
       "      <td>neg</td>\n",
       "    </tr>\n",
       "    <tr>\n",
       "      <th>4</th>\n",
       "      <td>5</td>\n",
       "      <td>0</td>\n",
       "      <td>wow great purchase</td>\n",
       "      <td>great bang buck cant believe quality material ...</td>\n",
       "      <td>0.9042</td>\n",
       "      <td>pos</td>\n",
       "    </tr>\n",
       "  </tbody>\n",
       "</table>\n",
       "</div>"
      ],
      "text/plain": [
       "   Star  HelpFul                           Title  \\\n",
       "0     5        0                      look great   \n",
       "1     5        0         pattern align two panel   \n",
       "2     5        0     imagery stretched still fun   \n",
       "3     5        0  que se ven elegantes muy finas   \n",
       "4     5        0              wow great purchase   \n",
       "\n",
       "                                              Review  polarity_score label  \n",
       "0                                              happy          0.5719   pos  \n",
       "1     good quality material however panel mismatched          0.4404   pos  \n",
       "2  product fun bedroom windowsbr imagery bit stre...          0.7184   pos  \n",
       "3  lo unico que gustaria e que sean un poco ma la...          0.0000   neg  \n",
       "4  great bang buck cant believe quality material ...          0.9042   pos  "
      ]
     },
     "execution_count": 43,
     "metadata": {},
     "output_type": "execute_result"
    }
   ],
   "source": [
    "df.head()"
   ]
  },
  {
   "cell_type": "code",
   "execution_count": null,
   "id": "979cc87e-e0f8-4e41-8cc6-b5c1ed1b5f08",
   "metadata": {},
   "outputs": [],
   "source": []
  },
  {
   "cell_type": "code",
   "execution_count": null,
   "id": "4db0d64b-c4bc-441f-ad21-3fb21aafe0a3",
   "metadata": {},
   "outputs": [],
   "source": []
  },
  {
   "cell_type": "markdown",
   "id": "b4d8242d-78e2-4d1f-957c-a162a16a8ce5",
   "metadata": {},
   "source": [
    "### Model Training"
   ]
  },
  {
   "cell_type": "code",
   "execution_count": 44,
   "id": "0776b4fc-8ed3-4318-ba84-5f9a608b28ef",
   "metadata": {},
   "outputs": [],
   "source": [
    "from sklearn.preprocessing import LabelEncoder"
   ]
  },
  {
   "cell_type": "code",
   "execution_count": 45,
   "id": "0f338961-a939-4a41-9808-fa830e73fe78",
   "metadata": {
    "tags": []
   },
   "outputs": [],
   "source": [
    "df[\"sentiment_label\"] = LabelEncoder().fit_transform(df[\"label\"])"
   ]
  },
  {
   "cell_type": "code",
   "execution_count": 46,
   "id": "4506e552-375e-495f-b656-8c410520404c",
   "metadata": {
    "tags": []
   },
   "outputs": [],
   "source": [
    "y = df[\"sentiment_label\"]"
   ]
  },
  {
   "cell_type": "code",
   "execution_count": null,
   "id": "fcebebdc-2891-4fa4-b4b7-9015abd40001",
   "metadata": {},
   "outputs": [],
   "source": []
  },
  {
   "cell_type": "code",
   "execution_count": 47,
   "id": "3be61609-6afe-4b34-aaaa-3a806f98ae82",
   "metadata": {
    "tags": []
   },
   "outputs": [],
   "source": [
    "X = df[\"Review\"]"
   ]
  },
  {
   "cell_type": "code",
   "execution_count": null,
   "id": "ef31cb71-8237-4535-9c34-de15c6a3559d",
   "metadata": {},
   "outputs": [],
   "source": []
  },
  {
   "cell_type": "code",
   "execution_count": 48,
   "id": "8994f330-d095-4b2b-ae6d-4359d2fbbe74",
   "metadata": {},
   "outputs": [],
   "source": [
    "from sklearn.model_selection import train_test_split"
   ]
  },
  {
   "cell_type": "code",
   "execution_count": 49,
   "id": "7c6a378e-7abb-48ab-9705-2ca53d05f451",
   "metadata": {},
   "outputs": [],
   "source": [
    "X_train, X_test, y_train, y_test = train_test_split(X, y, random_state=23, shuffle=True, train_size=0.7)"
   ]
  },
  {
   "cell_type": "code",
   "execution_count": null,
   "id": "fc5f35dd-148e-4980-8fb5-640f7b5544e7",
   "metadata": {},
   "outputs": [],
   "source": []
  },
  {
   "cell_type": "code",
   "execution_count": 50,
   "id": "16d39679-780a-4fa7-9db9-7a6401f5cc97",
   "metadata": {
    "tags": []
   },
   "outputs": [],
   "source": [
    "from sklearn.feature_extraction.text import CountVectorizer"
   ]
  },
  {
   "cell_type": "code",
   "execution_count": 51,
   "id": "2bc5ebf6-ede6-48a4-9b49-4de8c4f1d31d",
   "metadata": {},
   "outputs": [],
   "source": [
    "from sklearn.feature_extraction.text import TfidfVectorizer\n",
    "tf_idf_word_vectorizer = TfidfVectorizer()\n",
    "\n",
    "# ön tanımlı hali 'word' bazlı\n",
    "X_tf_idf_word_train = tf_idf_word_vectorizer.fit_transform(X_train)\n",
    "X_tf_idf_word_test = tf_idf_word_vectorizer.fit_transform(X_test)"
   ]
  },
  {
   "cell_type": "code",
   "execution_count": 52,
   "id": "3841cd2e-4ca7-48bd-8eae-12922874798b",
   "metadata": {},
   "outputs": [
    {
     "data": {
      "text/plain": [
       "<3927x5238 sparse matrix of type '<class 'numpy.float64'>'\n",
       "\twith 44708 stored elements in Compressed Sparse Row format>"
      ]
     },
     "execution_count": 52,
     "metadata": {},
     "output_type": "execute_result"
    }
   ],
   "source": [
    "X_tf_idf_word_train"
   ]
  },
  {
   "cell_type": "code",
   "execution_count": null,
   "id": "bf358268-71d1-4f35-82b6-95310e0c0448",
   "metadata": {},
   "outputs": [],
   "source": []
  },
  {
   "cell_type": "code",
   "execution_count": null,
   "id": "acd2da0c-56a9-49a2-869f-e345a82b7c8d",
   "metadata": {},
   "outputs": [],
   "source": []
  },
  {
   "cell_type": "code",
   "execution_count": 53,
   "id": "2284d2b1-e972-4e49-a5b3-fb04575de250",
   "metadata": {},
   "outputs": [],
   "source": [
    "from sklearn.linear_model import LogisticRegression"
   ]
  },
  {
   "cell_type": "code",
   "execution_count": 54,
   "id": "822b7c32-2bc1-4d34-ac2a-543aa45281a3",
   "metadata": {
    "tags": []
   },
   "outputs": [],
   "source": [
    "from sklearn.model_selection import cross_val_score, GridSearchCV"
   ]
  },
  {
   "cell_type": "code",
   "execution_count": 55,
   "id": "afde6630-4ca6-4717-b45a-1d2eeecaa841",
   "metadata": {},
   "outputs": [
    {
     "data": {
      "text/plain": [
       "0.8790444239153337"
      ]
     },
     "execution_count": 55,
     "metadata": {},
     "output_type": "execute_result"
    }
   ],
   "source": [
    "log_model = LogisticRegression().fit(X_tf_idf_word_train, y_train)\n",
    "cross_val_score(log_model,\n",
    "                X_tf_idf_word_train,\n",
    "                y_train, scoring='accuracy',\n",
    "                cv=5).mean()"
   ]
  },
  {
   "cell_type": "code",
   "execution_count": null,
   "id": "7c2ec34a-e399-4294-8892-ccad09cb338a",
   "metadata": {},
   "outputs": [],
   "source": []
  },
  {
   "cell_type": "code",
   "execution_count": null,
   "id": "743b0c2a-3b9b-4cb5-ba65-251c72fe1fae",
   "metadata": {},
   "outputs": [],
   "source": []
  },
  {
   "cell_type": "code",
   "execution_count": 56,
   "id": "e2983230-bb8f-48e4-83c2-1303155b1303",
   "metadata": {
    "tags": []
   },
   "outputs": [],
   "source": [
    "new_review = pd.Series(\"disappointing pictured window return closed soon\")\n",
    "new_review = TfidfVectorizer().fit(X_train).transform(new_review)"
   ]
  },
  {
   "cell_type": "code",
   "execution_count": 57,
   "id": "428389d9-39a8-4e98-a8f6-993b5d03c0c7",
   "metadata": {
    "tags": []
   },
   "outputs": [
    {
     "data": {
      "text/plain": [
       "array([1])"
      ]
     },
     "execution_count": 57,
     "metadata": {},
     "output_type": "execute_result"
    }
   ],
   "source": [
    "log_model.predict(new_review)"
   ]
  },
  {
   "cell_type": "code",
   "execution_count": null,
   "id": "a00d666c-fdda-4b53-b735-9989a47bedd0",
   "metadata": {
    "tags": []
   },
   "outputs": [],
   "source": []
  },
  {
   "cell_type": "code",
   "execution_count": 58,
   "id": "98aef194-5553-4b22-976d-aa146abaf5fb",
   "metadata": {
    "tags": []
   },
   "outputs": [],
   "source": [
    "new_review2 = TfidfVectorizer().fit(X_train).transform(X_test)\n",
    "y_pred = log_model.predict(new_review2)"
   ]
  },
  {
   "cell_type": "code",
   "execution_count": null,
   "id": "7d4a69f5-758c-4c1d-8c81-46f335cbb640",
   "metadata": {},
   "outputs": [],
   "source": []
  },
  {
   "cell_type": "code",
   "execution_count": 59,
   "id": "1d07431c-67a2-4356-a017-bdf943b289a3",
   "metadata": {
    "tags": []
   },
   "outputs": [],
   "source": [
    "from sklearn.metrics import classification_report"
   ]
  },
  {
   "cell_type": "code",
   "execution_count": 60,
   "id": "30020589-cf89-4559-bfa3-1bb2ab0a9c35",
   "metadata": {
    "tags": []
   },
   "outputs": [
    {
     "name": "stdout",
     "output_type": "stream",
     "text": [
      "              precision    recall  f1-score   support\n",
      "\n",
      "           0       0.94      0.26      0.41       248\n",
      "           1       0.89      1.00      0.94      1436\n",
      "\n",
      "    accuracy                           0.89      1684\n",
      "   macro avg       0.91      0.63      0.67      1684\n",
      "weighted avg       0.89      0.89      0.86      1684\n",
      "\n"
     ]
    }
   ],
   "source": [
    "print(classification_report(y_test, y_pred))"
   ]
  },
  {
   "cell_type": "code",
   "execution_count": 61,
   "id": "fa2b184b-b53d-4e71-bc21-7d45e6a73ac4",
   "metadata": {
    "tags": []
   },
   "outputs": [],
   "source": [
    "# because of less data for \"neg\" , We encountered bad f1-score for \"neg\""
   ]
  },
  {
   "cell_type": "code",
   "execution_count": null,
   "id": "b16ee549-e4be-462d-b655-8ada23150dbe",
   "metadata": {},
   "outputs": [],
   "source": []
  },
  {
   "cell_type": "code",
   "execution_count": 62,
   "id": "a0edbb38-5d91-4530-b1d8-df537203ac29",
   "metadata": {
    "tags": []
   },
   "outputs": [],
   "source": [
    "from sklearn.ensemble import RandomForestClassifier"
   ]
  },
  {
   "cell_type": "code",
   "execution_count": 63,
   "id": "64ea8a49-988d-4ee5-a638-a27c675ab1ec",
   "metadata": {
    "tags": []
   },
   "outputs": [
    {
     "name": "stdout",
     "output_type": "stream",
     "text": [
      "Fitting 5 folds for each of 24 candidates, totalling 120 fits\n"
     ]
    },
    {
     "name": "stderr",
     "output_type": "stream",
     "text": [
      "C:\\ProgramData\\anaconda3\\Lib\\site-packages\\sklearn\\model_selection\\_validation.py:425: FitFailedWarning: \n",
      "60 fits failed out of a total of 120.\n",
      "The score on these train-test partitions for these parameters will be set to nan.\n",
      "If these failures are not expected, you can try to debug them by setting error_score='raise'.\n",
      "\n",
      "Below are more details about the failures:\n",
      "--------------------------------------------------------------------------------\n",
      "53 fits failed with the following error:\n",
      "Traceback (most recent call last):\n",
      "  File \"C:\\ProgramData\\anaconda3\\Lib\\site-packages\\sklearn\\model_selection\\_validation.py\", line 732, in _fit_and_score\n",
      "    estimator.fit(X_train, y_train, **fit_params)\n",
      "  File \"C:\\ProgramData\\anaconda3\\Lib\\site-packages\\sklearn\\base.py\", line 1144, in wrapper\n",
      "    estimator._validate_params()\n",
      "  File \"C:\\ProgramData\\anaconda3\\Lib\\site-packages\\sklearn\\base.py\", line 637, in _validate_params\n",
      "    validate_parameter_constraints(\n",
      "  File \"C:\\ProgramData\\anaconda3\\Lib\\site-packages\\sklearn\\utils\\_param_validation.py\", line 95, in validate_parameter_constraints\n",
      "    raise InvalidParameterError(\n",
      "sklearn.utils._param_validation.InvalidParameterError: The 'max_features' parameter of RandomForestClassifier must be an int in the range [1, inf), a float in the range (0.0, 1.0], a str among {'sqrt', 'log2'} or None. Got 'auto' instead.\n",
      "\n",
      "--------------------------------------------------------------------------------\n",
      "7 fits failed with the following error:\n",
      "Traceback (most recent call last):\n",
      "  File \"C:\\ProgramData\\anaconda3\\Lib\\site-packages\\sklearn\\model_selection\\_validation.py\", line 732, in _fit_and_score\n",
      "    estimator.fit(X_train, y_train, **fit_params)\n",
      "  File \"C:\\ProgramData\\anaconda3\\Lib\\site-packages\\sklearn\\base.py\", line 1144, in wrapper\n",
      "    estimator._validate_params()\n",
      "  File \"C:\\ProgramData\\anaconda3\\Lib\\site-packages\\sklearn\\base.py\", line 637, in _validate_params\n",
      "    validate_parameter_constraints(\n",
      "  File \"C:\\ProgramData\\anaconda3\\Lib\\site-packages\\sklearn\\utils\\_param_validation.py\", line 95, in validate_parameter_constraints\n",
      "    raise InvalidParameterError(\n",
      "sklearn.utils._param_validation.InvalidParameterError: The 'max_features' parameter of RandomForestClassifier must be an int in the range [1, inf), a float in the range (0.0, 1.0], a str among {'log2', 'sqrt'} or None. Got 'auto' instead.\n",
      "\n",
      "  warnings.warn(some_fits_failed_message, FitFailedWarning)\n",
      "C:\\ProgramData\\anaconda3\\Lib\\site-packages\\sklearn\\model_selection\\_search.py:976: UserWarning: One or more of the test scores are non-finite: [0.85154082 0.85154082 0.85154082 0.85154082 0.85154082 0.85154082\n",
      "        nan        nan        nan        nan        nan        nan\n",
      " 0.90018152 0.90069107 0.90119933 0.89916306 0.89890796 0.89941654\n",
      "        nan        nan        nan        nan        nan        nan]\n",
      "  warnings.warn(\n"
     ]
    },
    {
     "data": {
      "text/plain": [
       "0.9011993322636587"
      ]
     },
     "execution_count": 63,
     "metadata": {},
     "output_type": "execute_result"
    }
   ],
   "source": [
    "rf_model = RandomForestClassifier(random_state=17)\n",
    "\n",
    "rf_params = {'max_depth': [8, None],\n",
    "             'max_features': [7, \"auto\"],\n",
    "             \"min_samples_split\": [2, 5, 8],\n",
    "             \"n_estimators\": [100, 200]}\n",
    "\n",
    "rf_best_grid = GridSearchCV(rf_model,\n",
    "                             rf_params,\n",
    "                             cv=5,\n",
    "                             n_jobs=-1,\n",
    "                             verbose=1).fit(X_tf_idf_word_train, y_train)\n",
    "\n",
    "\n",
    "rf_final = rf_model.set_params(**rf_best_grid.best_params_, random_state= 17).fit(X_tf_idf_word_train, y_train)\n",
    "cross_val_score(rf_final,\n",
    "                X_tf_idf_word_train,\n",
    "                y_train,\n",
    "                scoring='accuracy',\n",
    "                cv=5,\n",
    "                n_jobs=-1).mean()"
   ]
  },
  {
   "cell_type": "code",
   "execution_count": null,
   "id": "45941ce8-4012-4d61-a37f-fee9645a9242",
   "metadata": {},
   "outputs": [],
   "source": []
  },
  {
   "cell_type": "code",
   "execution_count": null,
   "id": "30b17bcc-6b95-4beb-a104-9660e3c66228",
   "metadata": {
    "tags": []
   },
   "outputs": [],
   "source": []
  },
  {
   "cell_type": "code",
   "execution_count": null,
   "id": "87a468e4-ee59-469c-853b-963f3ecf245a",
   "metadata": {},
   "outputs": [],
   "source": []
  },
  {
   "cell_type": "code",
   "execution_count": null,
   "id": "cf594e23-1306-46d0-bc07-23b385bcbae1",
   "metadata": {},
   "outputs": [],
   "source": []
  },
  {
   "cell_type": "code",
   "execution_count": null,
   "id": "fd9db3bb-42ad-413d-b566-9d9780607a72",
   "metadata": {},
   "outputs": [],
   "source": []
  },
  {
   "cell_type": "code",
   "execution_count": null,
   "id": "065fad56-75c5-433e-8ce4-754e0605d737",
   "metadata": {},
   "outputs": [],
   "source": []
  },
  {
   "cell_type": "code",
   "execution_count": null,
   "id": "8da452a1-44ef-4c69-9efb-8b9bd368cd29",
   "metadata": {},
   "outputs": [],
   "source": []
  },
  {
   "cell_type": "code",
   "execution_count": null,
   "id": "1f7d1768-aba2-4034-9e57-dbb9a2db0a3c",
   "metadata": {},
   "outputs": [],
   "source": []
  },
  {
   "cell_type": "code",
   "execution_count": null,
   "id": "6bffbbc2-5969-4668-9a61-3e72f5e57c26",
   "metadata": {},
   "outputs": [],
   "source": []
  },
  {
   "cell_type": "code",
   "execution_count": null,
   "id": "084c0085-debc-4a31-838b-6bac3bc44bc0",
   "metadata": {},
   "outputs": [],
   "source": []
  },
  {
   "cell_type": "code",
   "execution_count": null,
   "id": "a1bcf62f-6822-4699-bd26-3d60f5e1ca40",
   "metadata": {},
   "outputs": [],
   "source": []
  },
  {
   "cell_type": "code",
   "execution_count": null,
   "id": "858633e9-e7d4-4515-813e-ef3c1bcab499",
   "metadata": {},
   "outputs": [],
   "source": []
  },
  {
   "cell_type": "code",
   "execution_count": null,
   "id": "7757dbd5-d273-490b-a2d9-abb24ada0a0d",
   "metadata": {},
   "outputs": [],
   "source": []
  },
  {
   "cell_type": "code",
   "execution_count": null,
   "id": "df054983-d36e-4c52-b144-b59bdaf52760",
   "metadata": {},
   "outputs": [],
   "source": []
  },
  {
   "cell_type": "code",
   "execution_count": null,
   "id": "c2bc206b-a10c-4185-8993-7e63ceaafdf6",
   "metadata": {},
   "outputs": [],
   "source": []
  },
  {
   "cell_type": "code",
   "execution_count": null,
   "id": "8cd8c32f-47dd-4a31-888d-fd45a4adafdb",
   "metadata": {},
   "outputs": [],
   "source": []
  }
 ],
 "metadata": {
  "kernelspec": {
   "display_name": "Python 3 (ipykernel)",
   "language": "python",
   "name": "python3"
  },
  "language_info": {
   "codemirror_mode": {
    "name": "ipython",
    "version": 3
   },
   "file_extension": ".py",
   "mimetype": "text/x-python",
   "name": "python",
   "nbconvert_exporter": "python",
   "pygments_lexer": "ipython3",
   "version": "3.11.5"
  }
 },
 "nbformat": 4,
 "nbformat_minor": 5
}
